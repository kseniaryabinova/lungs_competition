{
 "cells": [
  {
   "cell_type": "code",
   "execution_count": 2,
   "id": "thermal-identification",
   "metadata": {},
   "outputs": [],
   "source": [
    "import pandas as pd"
   ]
  },
  {
   "cell_type": "code",
   "execution_count": 3,
   "id": "primary-kazakhstan",
   "metadata": {},
   "outputs": [],
   "source": [
    "train_annot = pd.read_csv('../dataset/train_annotations.csv')\n",
    "train = pd.read_csv('../dataset/train.csv')"
   ]
  },
  {
   "cell_type": "code",
   "execution_count": 4,
   "id": "generic-recall",
   "metadata": {},
   "outputs": [
    {
     "data": {
      "text/html": [
       "<div>\n",
       "<style scoped>\n",
       "    .dataframe tbody tr th:only-of-type {\n",
       "        vertical-align: middle;\n",
       "    }\n",
       "\n",
       "    .dataframe tbody tr th {\n",
       "        vertical-align: top;\n",
       "    }\n",
       "\n",
       "    .dataframe thead th {\n",
       "        text-align: right;\n",
       "    }\n",
       "</style>\n",
       "<table border=\"1\" class=\"dataframe\">\n",
       "  <thead>\n",
       "    <tr style=\"text-align: right;\">\n",
       "      <th></th>\n",
       "      <th>StudyInstanceUID</th>\n",
       "      <th>label</th>\n",
       "      <th>data</th>\n",
       "    </tr>\n",
       "  </thead>\n",
       "  <tbody>\n",
       "    <tr>\n",
       "      <th>0</th>\n",
       "      <td>1.2.826.0.1.3680043.8.498.12616281126973421762...</td>\n",
       "      <td>CVC - Normal</td>\n",
       "      <td>[[1487, 1279], [1477, 1168], [1472, 1052], [14...</td>\n",
       "    </tr>\n",
       "    <tr>\n",
       "      <th>1</th>\n",
       "      <td>1.2.826.0.1.3680043.8.498.12616281126973421762...</td>\n",
       "      <td>CVC - Normal</td>\n",
       "      <td>[[1328, 7], [1347, 101], [1383, 193], [1400, 2...</td>\n",
       "    </tr>\n",
       "    <tr>\n",
       "      <th>2</th>\n",
       "      <td>1.2.826.0.1.3680043.8.498.72921907356394389969...</td>\n",
       "      <td>CVC - Borderline</td>\n",
       "      <td>[[801, 1207], [812, 1112], [823, 1023], [842, ...</td>\n",
       "    </tr>\n",
       "    <tr>\n",
       "      <th>3</th>\n",
       "      <td>1.2.826.0.1.3680043.8.498.11697104485452001927...</td>\n",
       "      <td>CVC - Normal</td>\n",
       "      <td>[[1366, 961], [1411, 861], [1453, 751], [1508,...</td>\n",
       "    </tr>\n",
       "    <tr>\n",
       "      <th>4</th>\n",
       "      <td>1.2.826.0.1.3680043.8.498.87704688663091069148...</td>\n",
       "      <td>NGT - Normal</td>\n",
       "      <td>[[1862, 14], [1845, 293], [1801, 869], [1716, ...</td>\n",
       "    </tr>\n",
       "    <tr>\n",
       "      <th>...</th>\n",
       "      <td>...</td>\n",
       "      <td>...</td>\n",
       "      <td>...</td>\n",
       "    </tr>\n",
       "    <tr>\n",
       "      <th>17994</th>\n",
       "      <td>1.2.826.0.1.3680043.8.498.18590666552942008211...</td>\n",
       "      <td>ETT - Normal</td>\n",
       "      <td>[[1489, 631], [1515, 571], [1563, 535], [1596,...</td>\n",
       "    </tr>\n",
       "    <tr>\n",
       "      <th>17995</th>\n",
       "      <td>1.2.826.0.1.3680043.8.498.18590666552942008211...</td>\n",
       "      <td>CVC - Normal</td>\n",
       "      <td>[[1250, 1105], [1247, 1031], [1248, 970], [126...</td>\n",
       "    </tr>\n",
       "    <tr>\n",
       "      <th>17996</th>\n",
       "      <td>1.2.826.0.1.3680043.8.498.66774579023475418162...</td>\n",
       "      <td>CVC - Normal</td>\n",
       "      <td>[[1379, 1402], [1389, 1233], [1386, 1137], [13...</td>\n",
       "    </tr>\n",
       "    <tr>\n",
       "      <th>17997</th>\n",
       "      <td>1.2.826.0.1.3680043.8.498.18560506324214035535...</td>\n",
       "      <td>CVC - Normal</td>\n",
       "      <td>[[1302, 1543], [1308, 1488], [1317, 1355], [13...</td>\n",
       "    </tr>\n",
       "    <tr>\n",
       "      <th>17998</th>\n",
       "      <td>1.2.826.0.1.3680043.8.498.98119637144473510638...</td>\n",
       "      <td>CVC - Abnormal</td>\n",
       "      <td>[[1144, 1022], [1162, 934], [1179, 783], [1188...</td>\n",
       "    </tr>\n",
       "  </tbody>\n",
       "</table>\n",
       "<p>17999 rows × 3 columns</p>\n",
       "</div>"
      ],
      "text/plain": [
       "                                        StudyInstanceUID             label  \\\n",
       "0      1.2.826.0.1.3680043.8.498.12616281126973421762...      CVC - Normal   \n",
       "1      1.2.826.0.1.3680043.8.498.12616281126973421762...      CVC - Normal   \n",
       "2      1.2.826.0.1.3680043.8.498.72921907356394389969...  CVC - Borderline   \n",
       "3      1.2.826.0.1.3680043.8.498.11697104485452001927...      CVC - Normal   \n",
       "4      1.2.826.0.1.3680043.8.498.87704688663091069148...      NGT - Normal   \n",
       "...                                                  ...               ...   \n",
       "17994  1.2.826.0.1.3680043.8.498.18590666552942008211...      ETT - Normal   \n",
       "17995  1.2.826.0.1.3680043.8.498.18590666552942008211...      CVC - Normal   \n",
       "17996  1.2.826.0.1.3680043.8.498.66774579023475418162...      CVC - Normal   \n",
       "17997  1.2.826.0.1.3680043.8.498.18560506324214035535...      CVC - Normal   \n",
       "17998  1.2.826.0.1.3680043.8.498.98119637144473510638...    CVC - Abnormal   \n",
       "\n",
       "                                                    data  \n",
       "0      [[1487, 1279], [1477, 1168], [1472, 1052], [14...  \n",
       "1      [[1328, 7], [1347, 101], [1383, 193], [1400, 2...  \n",
       "2      [[801, 1207], [812, 1112], [823, 1023], [842, ...  \n",
       "3      [[1366, 961], [1411, 861], [1453, 751], [1508,...  \n",
       "4      [[1862, 14], [1845, 293], [1801, 869], [1716, ...  \n",
       "...                                                  ...  \n",
       "17994  [[1489, 631], [1515, 571], [1563, 535], [1596,...  \n",
       "17995  [[1250, 1105], [1247, 1031], [1248, 970], [126...  \n",
       "17996  [[1379, 1402], [1389, 1233], [1386, 1137], [13...  \n",
       "17997  [[1302, 1543], [1308, 1488], [1317, 1355], [13...  \n",
       "17998  [[1144, 1022], [1162, 934], [1179, 783], [1188...  \n",
       "\n",
       "[17999 rows x 3 columns]"
      ]
     },
     "execution_count": 4,
     "metadata": {},
     "output_type": "execute_result"
    }
   ],
   "source": [
    "train_annot"
   ]
  },
  {
   "cell_type": "code",
   "execution_count": 5,
   "id": "bizarre-description",
   "metadata": {},
   "outputs": [
    {
     "data": {
      "text/html": [
       "<div>\n",
       "<style scoped>\n",
       "    .dataframe tbody tr th:only-of-type {\n",
       "        vertical-align: middle;\n",
       "    }\n",
       "\n",
       "    .dataframe tbody tr th {\n",
       "        vertical-align: top;\n",
       "    }\n",
       "\n",
       "    .dataframe thead th {\n",
       "        text-align: right;\n",
       "    }\n",
       "</style>\n",
       "<table border=\"1\" class=\"dataframe\">\n",
       "  <thead>\n",
       "    <tr style=\"text-align: right;\">\n",
       "      <th></th>\n",
       "      <th>StudyInstanceUID</th>\n",
       "      <th>ETT - Abnormal</th>\n",
       "      <th>ETT - Borderline</th>\n",
       "      <th>ETT - Normal</th>\n",
       "      <th>NGT - Abnormal</th>\n",
       "      <th>NGT - Borderline</th>\n",
       "      <th>NGT - Incompletely Imaged</th>\n",
       "      <th>NGT - Normal</th>\n",
       "      <th>CVC - Abnormal</th>\n",
       "      <th>CVC - Borderline</th>\n",
       "      <th>CVC - Normal</th>\n",
       "      <th>Swan Ganz Catheter Present</th>\n",
       "      <th>PatientID</th>\n",
       "    </tr>\n",
       "  </thead>\n",
       "  <tbody>\n",
       "    <tr>\n",
       "      <th>0</th>\n",
       "      <td>1.2.826.0.1.3680043.8.498.26697628953273228189...</td>\n",
       "      <td>0</td>\n",
       "      <td>0</td>\n",
       "      <td>0</td>\n",
       "      <td>0</td>\n",
       "      <td>0</td>\n",
       "      <td>0</td>\n",
       "      <td>1</td>\n",
       "      <td>0</td>\n",
       "      <td>0</td>\n",
       "      <td>0</td>\n",
       "      <td>0</td>\n",
       "      <td>ec89415d1</td>\n",
       "    </tr>\n",
       "    <tr>\n",
       "      <th>1</th>\n",
       "      <td>1.2.826.0.1.3680043.8.498.46302891597398758759...</td>\n",
       "      <td>0</td>\n",
       "      <td>0</td>\n",
       "      <td>1</td>\n",
       "      <td>0</td>\n",
       "      <td>0</td>\n",
       "      <td>1</td>\n",
       "      <td>0</td>\n",
       "      <td>0</td>\n",
       "      <td>0</td>\n",
       "      <td>1</td>\n",
       "      <td>0</td>\n",
       "      <td>bf4c6da3c</td>\n",
       "    </tr>\n",
       "    <tr>\n",
       "      <th>2</th>\n",
       "      <td>1.2.826.0.1.3680043.8.498.23819260719748494858...</td>\n",
       "      <td>0</td>\n",
       "      <td>0</td>\n",
       "      <td>0</td>\n",
       "      <td>0</td>\n",
       "      <td>0</td>\n",
       "      <td>0</td>\n",
       "      <td>0</td>\n",
       "      <td>0</td>\n",
       "      <td>1</td>\n",
       "      <td>0</td>\n",
       "      <td>0</td>\n",
       "      <td>3fc1c97e5</td>\n",
       "    </tr>\n",
       "    <tr>\n",
       "      <th>3</th>\n",
       "      <td>1.2.826.0.1.3680043.8.498.68286643202323212801...</td>\n",
       "      <td>0</td>\n",
       "      <td>0</td>\n",
       "      <td>0</td>\n",
       "      <td>0</td>\n",
       "      <td>0</td>\n",
       "      <td>0</td>\n",
       "      <td>0</td>\n",
       "      <td>1</td>\n",
       "      <td>0</td>\n",
       "      <td>0</td>\n",
       "      <td>0</td>\n",
       "      <td>c31019814</td>\n",
       "    </tr>\n",
       "    <tr>\n",
       "      <th>4</th>\n",
       "      <td>1.2.826.0.1.3680043.8.498.10050203009225938259...</td>\n",
       "      <td>0</td>\n",
       "      <td>0</td>\n",
       "      <td>0</td>\n",
       "      <td>0</td>\n",
       "      <td>0</td>\n",
       "      <td>0</td>\n",
       "      <td>0</td>\n",
       "      <td>0</td>\n",
       "      <td>0</td>\n",
       "      <td>1</td>\n",
       "      <td>0</td>\n",
       "      <td>207685cd1</td>\n",
       "    </tr>\n",
       "    <tr>\n",
       "      <th>...</th>\n",
       "      <td>...</td>\n",
       "      <td>...</td>\n",
       "      <td>...</td>\n",
       "      <td>...</td>\n",
       "      <td>...</td>\n",
       "      <td>...</td>\n",
       "      <td>...</td>\n",
       "      <td>...</td>\n",
       "      <td>...</td>\n",
       "      <td>...</td>\n",
       "      <td>...</td>\n",
       "      <td>...</td>\n",
       "      <td>...</td>\n",
       "    </tr>\n",
       "    <tr>\n",
       "      <th>30078</th>\n",
       "      <td>1.2.826.0.1.3680043.8.498.74257566841157531124...</td>\n",
       "      <td>0</td>\n",
       "      <td>0</td>\n",
       "      <td>1</td>\n",
       "      <td>0</td>\n",
       "      <td>0</td>\n",
       "      <td>0</td>\n",
       "      <td>0</td>\n",
       "      <td>0</td>\n",
       "      <td>1</td>\n",
       "      <td>1</td>\n",
       "      <td>0</td>\n",
       "      <td>5b5b9ac30</td>\n",
       "    </tr>\n",
       "    <tr>\n",
       "      <th>30079</th>\n",
       "      <td>1.2.826.0.1.3680043.8.498.46510939987173529969...</td>\n",
       "      <td>0</td>\n",
       "      <td>0</td>\n",
       "      <td>0</td>\n",
       "      <td>0</td>\n",
       "      <td>0</td>\n",
       "      <td>0</td>\n",
       "      <td>0</td>\n",
       "      <td>0</td>\n",
       "      <td>0</td>\n",
       "      <td>1</td>\n",
       "      <td>0</td>\n",
       "      <td>7192404d8</td>\n",
       "    </tr>\n",
       "    <tr>\n",
       "      <th>30080</th>\n",
       "      <td>1.2.826.0.1.3680043.8.498.43173270582850645437...</td>\n",
       "      <td>0</td>\n",
       "      <td>0</td>\n",
       "      <td>1</td>\n",
       "      <td>0</td>\n",
       "      <td>0</td>\n",
       "      <td>1</td>\n",
       "      <td>0</td>\n",
       "      <td>1</td>\n",
       "      <td>0</td>\n",
       "      <td>1</td>\n",
       "      <td>0</td>\n",
       "      <td>d4d1b066d</td>\n",
       "    </tr>\n",
       "    <tr>\n",
       "      <th>30081</th>\n",
       "      <td>1.2.826.0.1.3680043.8.498.95092491950130838685...</td>\n",
       "      <td>0</td>\n",
       "      <td>0</td>\n",
       "      <td>0</td>\n",
       "      <td>0</td>\n",
       "      <td>0</td>\n",
       "      <td>0</td>\n",
       "      <td>0</td>\n",
       "      <td>0</td>\n",
       "      <td>1</td>\n",
       "      <td>0</td>\n",
       "      <td>0</td>\n",
       "      <td>01a6602b8</td>\n",
       "    </tr>\n",
       "    <tr>\n",
       "      <th>30082</th>\n",
       "      <td>1.2.826.0.1.3680043.8.498.99518162226171269731...</td>\n",
       "      <td>0</td>\n",
       "      <td>0</td>\n",
       "      <td>1</td>\n",
       "      <td>0</td>\n",
       "      <td>0</td>\n",
       "      <td>0</td>\n",
       "      <td>0</td>\n",
       "      <td>0</td>\n",
       "      <td>0</td>\n",
       "      <td>1</td>\n",
       "      <td>0</td>\n",
       "      <td>e692d316c</td>\n",
       "    </tr>\n",
       "  </tbody>\n",
       "</table>\n",
       "<p>30083 rows × 13 columns</p>\n",
       "</div>"
      ],
      "text/plain": [
       "                                        StudyInstanceUID  ETT - Abnormal  \\\n",
       "0      1.2.826.0.1.3680043.8.498.26697628953273228189...               0   \n",
       "1      1.2.826.0.1.3680043.8.498.46302891597398758759...               0   \n",
       "2      1.2.826.0.1.3680043.8.498.23819260719748494858...               0   \n",
       "3      1.2.826.0.1.3680043.8.498.68286643202323212801...               0   \n",
       "4      1.2.826.0.1.3680043.8.498.10050203009225938259...               0   \n",
       "...                                                  ...             ...   \n",
       "30078  1.2.826.0.1.3680043.8.498.74257566841157531124...               0   \n",
       "30079  1.2.826.0.1.3680043.8.498.46510939987173529969...               0   \n",
       "30080  1.2.826.0.1.3680043.8.498.43173270582850645437...               0   \n",
       "30081  1.2.826.0.1.3680043.8.498.95092491950130838685...               0   \n",
       "30082  1.2.826.0.1.3680043.8.498.99518162226171269731...               0   \n",
       "\n",
       "       ETT - Borderline  ETT - Normal  NGT - Abnormal  NGT - Borderline  \\\n",
       "0                     0             0               0                 0   \n",
       "1                     0             1               0                 0   \n",
       "2                     0             0               0                 0   \n",
       "3                     0             0               0                 0   \n",
       "4                     0             0               0                 0   \n",
       "...                 ...           ...             ...               ...   \n",
       "30078                 0             1               0                 0   \n",
       "30079                 0             0               0                 0   \n",
       "30080                 0             1               0                 0   \n",
       "30081                 0             0               0                 0   \n",
       "30082                 0             1               0                 0   \n",
       "\n",
       "       NGT - Incompletely Imaged  NGT - Normal  CVC - Abnormal  \\\n",
       "0                              0             1               0   \n",
       "1                              1             0               0   \n",
       "2                              0             0               0   \n",
       "3                              0             0               1   \n",
       "4                              0             0               0   \n",
       "...                          ...           ...             ...   \n",
       "30078                          0             0               0   \n",
       "30079                          0             0               0   \n",
       "30080                          1             0               1   \n",
       "30081                          0             0               0   \n",
       "30082                          0             0               0   \n",
       "\n",
       "       CVC - Borderline  CVC - Normal  Swan Ganz Catheter Present  PatientID  \n",
       "0                     0             0                           0  ec89415d1  \n",
       "1                     0             1                           0  bf4c6da3c  \n",
       "2                     1             0                           0  3fc1c97e5  \n",
       "3                     0             0                           0  c31019814  \n",
       "4                     0             1                           0  207685cd1  \n",
       "...                 ...           ...                         ...        ...  \n",
       "30078                 1             1                           0  5b5b9ac30  \n",
       "30079                 0             1                           0  7192404d8  \n",
       "30080                 0             1                           0  d4d1b066d  \n",
       "30081                 1             0                           0  01a6602b8  \n",
       "30082                 0             1                           0  e692d316c  \n",
       "\n",
       "[30083 rows x 13 columns]"
      ]
     },
     "execution_count": 5,
     "metadata": {},
     "output_type": "execute_result"
    }
   ],
   "source": [
    "train"
   ]
  },
  {
   "cell_type": "code",
   "execution_count": 6,
   "id": "entertaining-practitioner",
   "metadata": {},
   "outputs": [
    {
     "name": "stdout",
     "output_type": "stream",
     "text": [
      "<class 'pandas.core.frame.DataFrame'>\n",
      "RangeIndex: 30083 entries, 0 to 30082\n",
      "Data columns (total 13 columns):\n",
      " #   Column                      Non-Null Count  Dtype \n",
      "---  ------                      --------------  ----- \n",
      " 0   StudyInstanceUID            30083 non-null  object\n",
      " 1   ETT - Abnormal              30083 non-null  int64 \n",
      " 2   ETT - Borderline            30083 non-null  int64 \n",
      " 3   ETT - Normal                30083 non-null  int64 \n",
      " 4   NGT - Abnormal              30083 non-null  int64 \n",
      " 5   NGT - Borderline            30083 non-null  int64 \n",
      " 6   NGT - Incompletely Imaged   30083 non-null  int64 \n",
      " 7   NGT - Normal                30083 non-null  int64 \n",
      " 8   CVC - Abnormal              30083 non-null  int64 \n",
      " 9   CVC - Borderline            30083 non-null  int64 \n",
      " 10  CVC - Normal                30083 non-null  int64 \n",
      " 11  Swan Ganz Catheter Present  30083 non-null  int64 \n",
      " 12  PatientID                   30083 non-null  object\n",
      "dtypes: int64(11), object(2)\n",
      "memory usage: 3.0+ MB\n"
     ]
    }
   ],
   "source": [
    "train.info()"
   ]
  },
  {
   "cell_type": "code",
   "execution_count": 7,
   "id": "medium-stations",
   "metadata": {},
   "outputs": [
    {
     "data": {
      "text/plain": [
       "StudyInstanceUID              30083\n",
       "ETT - Abnormal                    2\n",
       "ETT - Borderline                  2\n",
       "ETT - Normal                      2\n",
       "NGT - Abnormal                    2\n",
       "NGT - Borderline                  2\n",
       "NGT - Incompletely Imaged         2\n",
       "NGT - Normal                      2\n",
       "CVC - Abnormal                    2\n",
       "CVC - Borderline                  2\n",
       "CVC - Normal                      2\n",
       "Swan Ganz Catheter Present        2\n",
       "PatientID                      3255\n",
       "dtype: int64"
      ]
     },
     "execution_count": 7,
     "metadata": {},
     "output_type": "execute_result"
    }
   ],
   "source": [
    "train.nunique()"
   ]
  },
  {
   "cell_type": "code",
   "execution_count": 8,
   "id": "refined-congress",
   "metadata": {},
   "outputs": [],
   "source": [
    "# здоровенные картинки в 2к почти"
   ]
  },
  {
   "cell_type": "code",
   "execution_count": 9,
   "id": "external-watershed",
   "metadata": {},
   "outputs": [],
   "source": [
    "train.drop(['StudyInstanceUID'], axis=1, inplace=True)"
   ]
  },
  {
   "cell_type": "code",
   "execution_count": 10,
   "id": "loving-transcript",
   "metadata": {},
   "outputs": [
    {
     "data": {
      "text/plain": [
       "<AxesSubplot:>"
      ]
     },
     "execution_count": 10,
     "metadata": {},
     "output_type": "execute_result"
    },
    {
     "data": {
      "image/png": "[encoded data removed]",
      "text/plain": [
       "<Figure size 432x288 with 1 Axes>"
      ]
     },
     "metadata": {
      "needs_background": "light"
     },
     "output_type": "display_data"
    }
   ],
   "source": [
    "train.drop(['PatientID'], axis=1).sum().plot(kind='bar')"
   ]
  },
  {
   "cell_type": "code",
   "execution_count": 11,
   "id": "appropriate-replacement",
   "metadata": {},
   "outputs": [
    {
     "data": {
      "text/plain": [
       "<AxesSubplot:>"
      ]
     },
     "execution_count": 11,
     "metadata": {},
     "output_type": "execute_result"
    },
    {
     "data": {
      "image/png": "[encoded data removed]",
      "text/plain": [
       "<Figure size 432x288 with 1 Axes>"
      ]
     },
     "metadata": {
      "needs_background": "light"
     },
     "output_type": "display_data"
    }
   ],
   "source": [
    "(train.drop(['PatientID'], axis=1).sum() / len(train) * 100).plot(kind='bar') "
   ]
  },
  {
   "cell_type": "code",
   "execution_count": 12,
   "id": "desirable-checkout",
   "metadata": {},
   "outputs": [],
   "source": [
    "# большой дизбаланс"
   ]
  },
  {
   "cell_type": "code",
   "execution_count": 13,
   "id": "operating-journalist",
   "metadata": {},
   "outputs": [
    {
     "data": {
      "text/plain": [
       "ETT - Abnormal                   2\n",
       "ETT - Borderline                 2\n",
       "ETT - Normal                     2\n",
       "NGT - Abnormal                   2\n",
       "NGT - Borderline                 2\n",
       "NGT - Incompletely Imaged        2\n",
       "NGT - Normal                     2\n",
       "CVC - Abnormal                   2\n",
       "CVC - Borderline                 2\n",
       "CVC - Normal                     2\n",
       "Swan Ganz Catheter Present       2\n",
       "PatientID                     3255\n",
       "dtype: int64"
      ]
     },
     "execution_count": 13,
     "metadata": {},
     "output_type": "execute_result"
    }
   ],
   "source": [
    "train.nunique()"
   ]
  },
  {
   "cell_type": "markdown",
   "id": "noted-chapel",
   "metadata": {},
   "source": [
    "# Рисуем диаргаммы Венна"
   ]
  },
  {
   "cell_type": "code",
   "execution_count": 14,
   "id": "molecular-joint",
   "metadata": {},
   "outputs": [],
   "source": [
    "from venn import generate_petal_labels, draw_venn, generate_colors\n",
    "import numpy as np"
   ]
  },
  {
   "cell_type": "code",
   "execution_count": 29,
   "id": "positive-authentication",
   "metadata": {},
   "outputs": [],
   "source": [
    "# Для normal"
   ]
  },
  {
   "cell_type": "code",
   "execution_count": 34,
   "id": "quarterly-circular",
   "metadata": {},
   "outputs": [
    {
     "data": {
      "text/plain": [
       "<AxesSubplot:>"
      ]
     },
     "execution_count": 34,
     "metadata": {},
     "output_type": "execute_result"
    },
    {
     "data": {
      "image/png": "[encoded data removed]",
      "text/plain": [
       "<Figure size 576x576 with 1 Axes>"
      ]
     },
     "metadata": {},
     "output_type": "display_data"
    }
   ],
   "source": [
    "ett = set(np.where(train['ETT - Normal'] == True, train.index.values, None).tolist())\n",
    "ngt = set(np.where(train['NGT - Normal'] == True, train.index.values, None).tolist())\n",
    "cvc = set(np.where(train['CVC - Normal'] == True, train.index.values, None).tolist())\n",
    "\n",
    "venn_dataset_dict = {'ETT - Normal': ett, 'NGT - Normal': ngt, 'CVC - Normal': cvc}\n",
    "\n",
    "petal_labels = generate_petal_labels(venn_dataset_dict.values(), fmt=\"{size}\")\n",
    "\n",
    "draw_venn(\n",
    "    petal_labels=petal_labels, dataset_labels=venn_dataset_dict.keys(),\n",
    "    hint_hidden=False, colors=generate_colors(n_colors=4),\n",
    "    figsize=(8, 8), fontsize=14, legend_loc=\"best\", ax=None\n",
    ")"
   ]
  },
  {
   "cell_type": "code",
   "execution_count": 35,
   "id": "identical-detroit",
   "metadata": {},
   "outputs": [
    {
     "data": {
      "text/plain": [
       "<AxesSubplot:>"
      ]
     },
     "execution_count": 35,
     "metadata": {},
     "output_type": "execute_result"
    },
    {
     "data": {
      "image/png": "[encoded data removed]",
      "text/plain": [
       "<Figure size 576x576 with 1 Axes>"
      ]
     },
     "metadata": {},
     "output_type": "display_data"
    }
   ],
   "source": [
    "ett = set(np.where(train['ETT - Abnormal'] == True, train.index.values, None).tolist())\n",
    "ngt = set(np.where(train['NGT - Abnormal'] == True, train.index.values, None).tolist())\n",
    "cvc = set(np.where(train['CVC - Abnormal'] == True, train.index.values, None).tolist())\n",
    "\n",
    "venn_dataset_dict = {'ETT - Abnormal': ett, 'NGT - Abnormal': ngt, 'CVC - Abnormal': cvc}\n",
    "\n",
    "petal_labels = generate_petal_labels(venn_dataset_dict.values(), fmt=\"{size}\")\n",
    "\n",
    "draw_venn(\n",
    "    petal_labels=petal_labels, dataset_labels=venn_dataset_dict.keys(),\n",
    "    hint_hidden=False, colors=generate_colors(n_colors=4),\n",
    "    figsize=(8, 8), fontsize=14, legend_loc=\"best\", ax=None\n",
    ")"
   ]
  },
  {
   "cell_type": "code",
   "execution_count": 36,
   "id": "appointed-advance",
   "metadata": {},
   "outputs": [
    {
     "data": {
      "text/plain": [
       "<AxesSubplot:>"
      ]
     },
     "execution_count": 36,
     "metadata": {},
     "output_type": "execute_result"
    },
    {
     "data": {
      "image/png": "[encoded data removed]",
      "text/plain": [
       "<Figure size 576x576 with 1 Axes>"
      ]
     },
     "metadata": {},
     "output_type": "display_data"
    }
   ],
   "source": [
    "ett = set(np.where(train['ETT - Borderline'] == True, train.index.values, None).tolist())\n",
    "ngt = set(np.where(train['NGT - Borderline'] == True, train.index.values, None).tolist())\n",
    "cvc = set(np.where(train['CVC - Borderline'] == True, train.index.values, None).tolist())\n",
    "\n",
    "venn_dataset_dict = {'ETT - Borderline': ett, 'NGT - Borderline': ngt, 'CVC - Borderline': cvc}\n",
    "\n",
    "petal_labels = generate_petal_labels(venn_dataset_dict.values(), fmt=\"{size}\")\n",
    "\n",
    "draw_venn(\n",
    "    petal_labels=petal_labels, dataset_labels=venn_dataset_dict.keys(),\n",
    "    hint_hidden=False, colors=generate_colors(n_colors=4),\n",
    "    figsize=(8, 8), fontsize=14, legend_loc=\"best\", ax=None\n",
    ")"
   ]
  },
  {
   "cell_type": "code",
   "execution_count": 37,
   "id": "colored-thing",
   "metadata": {},
   "outputs": [
    {
     "data": {
      "text/plain": [
       "<AxesSubplot:>"
      ]
     },
     "execution_count": 37,
     "metadata": {},
     "output_type": "execute_result"
    },
    {
     "data": {
      "image/png": "[encoded data removed]",
      "text/plain": [
       "<Figure size 576x576 with 1 Axes>"
      ]
     },
     "metadata": {},
     "output_type": "display_data"
    }
   ],
   "source": [
    "ett = set(np.where(train['ETT - Borderline'] == True, train.index.values, None).tolist())\n",
    "ngt = set(np.where(train['NGT - Borderline'] == True, train.index.values, None).tolist())\n",
    "cvc = set(np.where(train['CVC - Borderline'] == True, train.index.values, None).tolist())\n",
    "incompletely_imaged = set(np.where(train['NGT - Incompletely Imaged'] == True, train.index.values, None).tolist())\n",
    "\n",
    "venn_dataset_dict = {'ETT - Borderline': ett, 'NGT - Borderline': ngt, \n",
    "                     'CVC - Borderline': cvc, 'Incompletely Imaged': incompletely_imaged}\n",
    "\n",
    "petal_labels = generate_petal_labels(venn_dataset_dict.values(), fmt=\"{size}\")\n",
    "\n",
    "draw_venn(\n",
    "    petal_labels=petal_labels, dataset_labels=venn_dataset_dict.keys(),\n",
    "    hint_hidden=False, colors=generate_colors(n_colors=4),\n",
    "    figsize=(8, 8), fontsize=14, legend_loc=\"best\", ax=None\n",
    ")"
   ]
  },
  {
   "cell_type": "markdown",
   "id": "referenced-shore",
   "metadata": {},
   "source": [
    "# checkout images sizes"
   ]
  },
  {
   "cell_type": "code",
   "execution_count": 1,
   "id": "revised-consumer",
   "metadata": {},
   "outputs": [],
   "source": [
    "import cv2\n",
    "import pandas as pd"
   ]
  },
  {
   "cell_type": "code",
   "execution_count": 2,
   "id": "included-canadian",
   "metadata": {},
   "outputs": [],
   "source": [
    "train = pd.read_csv('../dataset/train.csv')"
   ]
  },
  {
   "cell_type": "code",
   "execution_count": 3,
   "id": "mineral-office",
   "metadata": {},
   "outputs": [
    {
     "data": {
      "text/html": [
       "<div>\n",
       "<style scoped>\n",
       "    .dataframe tbody tr th:only-of-type {\n",
       "        vertical-align: middle;\n",
       "    }\n",
       "\n",
       "    .dataframe tbody tr th {\n",
       "        vertical-align: top;\n",
       "    }\n",
       "\n",
       "    .dataframe thead th {\n",
       "        text-align: right;\n",
       "    }\n",
       "</style>\n",
       "<table border=\"1\" class=\"dataframe\">\n",
       "  <thead>\n",
       "    <tr style=\"text-align: right;\">\n",
       "      <th></th>\n",
       "      <th>StudyInstanceUID</th>\n",
       "      <th>ETT - Abnormal</th>\n",
       "      <th>ETT - Borderline</th>\n",
       "      <th>ETT - Normal</th>\n",
       "      <th>NGT - Abnormal</th>\n",
       "      <th>NGT - Borderline</th>\n",
       "      <th>NGT - Incompletely Imaged</th>\n",
       "      <th>NGT - Normal</th>\n",
       "      <th>CVC - Abnormal</th>\n",
       "      <th>CVC - Borderline</th>\n",
       "      <th>CVC - Normal</th>\n",
       "      <th>Swan Ganz Catheter Present</th>\n",
       "      <th>PatientID</th>\n",
       "    </tr>\n",
       "  </thead>\n",
       "  <tbody>\n",
       "    <tr>\n",
       "      <th>0</th>\n",
       "      <td>1.2.826.0.1.3680043.8.498.26697628953273228189...</td>\n",
       "      <td>0</td>\n",
       "      <td>0</td>\n",
       "      <td>0</td>\n",
       "      <td>0</td>\n",
       "      <td>0</td>\n",
       "      <td>0</td>\n",
       "      <td>1</td>\n",
       "      <td>0</td>\n",
       "      <td>0</td>\n",
       "      <td>0</td>\n",
       "      <td>0</td>\n",
       "      <td>ec89415d1</td>\n",
       "    </tr>\n",
       "    <tr>\n",
       "      <th>1</th>\n",
       "      <td>1.2.826.0.1.3680043.8.498.46302891597398758759...</td>\n",
       "      <td>0</td>\n",
       "      <td>0</td>\n",
       "      <td>1</td>\n",
       "      <td>0</td>\n",
       "      <td>0</td>\n",
       "      <td>1</td>\n",
       "      <td>0</td>\n",
       "      <td>0</td>\n",
       "      <td>0</td>\n",
       "      <td>1</td>\n",
       "      <td>0</td>\n",
       "      <td>bf4c6da3c</td>\n",
       "    </tr>\n",
       "    <tr>\n",
       "      <th>2</th>\n",
       "      <td>1.2.826.0.1.3680043.8.498.23819260719748494858...</td>\n",
       "      <td>0</td>\n",
       "      <td>0</td>\n",
       "      <td>0</td>\n",
       "      <td>0</td>\n",
       "      <td>0</td>\n",
       "      <td>0</td>\n",
       "      <td>0</td>\n",
       "      <td>0</td>\n",
       "      <td>1</td>\n",
       "      <td>0</td>\n",
       "      <td>0</td>\n",
       "      <td>3fc1c97e5</td>\n",
       "    </tr>\n",
       "    <tr>\n",
       "      <th>3</th>\n",
       "      <td>1.2.826.0.1.3680043.8.498.68286643202323212801...</td>\n",
       "      <td>0</td>\n",
       "      <td>0</td>\n",
       "      <td>0</td>\n",
       "      <td>0</td>\n",
       "      <td>0</td>\n",
       "      <td>0</td>\n",
       "      <td>0</td>\n",
       "      <td>1</td>\n",
       "      <td>0</td>\n",
       "      <td>0</td>\n",
       "      <td>0</td>\n",
       "      <td>c31019814</td>\n",
       "    </tr>\n",
       "    <tr>\n",
       "      <th>4</th>\n",
       "      <td>1.2.826.0.1.3680043.8.498.10050203009225938259...</td>\n",
       "      <td>0</td>\n",
       "      <td>0</td>\n",
       "      <td>0</td>\n",
       "      <td>0</td>\n",
       "      <td>0</td>\n",
       "      <td>0</td>\n",
       "      <td>0</td>\n",
       "      <td>0</td>\n",
       "      <td>0</td>\n",
       "      <td>1</td>\n",
       "      <td>0</td>\n",
       "      <td>207685cd1</td>\n",
       "    </tr>\n",
       "  </tbody>\n",
       "</table>\n",
       "</div>"
      ],
      "text/plain": [
       "                                    StudyInstanceUID  ETT - Abnormal  \\\n",
       "0  1.2.826.0.1.3680043.8.498.26697628953273228189...               0   \n",
       "1  1.2.826.0.1.3680043.8.498.46302891597398758759...               0   \n",
       "2  1.2.826.0.1.3680043.8.498.23819260719748494858...               0   \n",
       "3  1.2.826.0.1.3680043.8.498.68286643202323212801...               0   \n",
       "4  1.2.826.0.1.3680043.8.498.10050203009225938259...               0   \n",
       "\n",
       "   ETT - Borderline  ETT - Normal  NGT - Abnormal  NGT - Borderline  \\\n",
       "0                 0             0               0                 0   \n",
       "1                 0             1               0                 0   \n",
       "2                 0             0               0                 0   \n",
       "3                 0             0               0                 0   \n",
       "4                 0             0               0                 0   \n",
       "\n",
       "   NGT - Incompletely Imaged  NGT - Normal  CVC - Abnormal  CVC - Borderline  \\\n",
       "0                          0             1               0                 0   \n",
       "1                          1             0               0                 0   \n",
       "2                          0             0               0                 1   \n",
       "3                          0             0               1                 0   \n",
       "4                          0             0               0                 0   \n",
       "\n",
       "   CVC - Normal  Swan Ganz Catheter Present  PatientID  \n",
       "0             0                           0  ec89415d1  \n",
       "1             1                           0  bf4c6da3c  \n",
       "2             0                           0  3fc1c97e5  \n",
       "3             0                           0  c31019814  \n",
       "4             1                           0  207685cd1  "
      ]
     },
     "execution_count": 3,
     "metadata": {},
     "output_type": "execute_result"
    }
   ],
   "source": [
    "train.head()"
   ]
  },
  {
   "cell_type": "code",
   "execution_count": 4,
   "id": "excited-makeup",
   "metadata": {},
   "outputs": [
    {
     "data": {
      "text/plain": [
       "'1.2.826.0.1.3680043.8.498.26697628953273228189375557799582420561'"
      ]
     },
     "execution_count": 4,
     "metadata": {},
     "output_type": "execute_result"
    }
   ],
   "source": [
    "train.loc[0]['StudyInstanceUID']"
   ]
  },
  {
   "cell_type": "code",
   "execution_count": 6,
   "id": "acoustic-karen",
   "metadata": {},
   "outputs": [],
   "source": [
    "import os\n",
    "from matplotlib import pyplot as plt"
   ]
  },
  {
   "cell_type": "code",
   "execution_count": 7,
   "id": "gross-payroll",
   "metadata": {},
   "outputs": [
    {
     "data": {
      "image/png": "[encoded data removed]",
      "text/plain": [
       "<Figure size 432x288 with 1 Axes>"
      ]
     },
     "metadata": {
      "needs_background": "light"
     },
     "output_type": "display_data"
    }
   ],
   "source": [
    "for filename in train['StudyInstanceUID']:\n",
    "    filepath = os.path.join('../dataset/train', '{}.jpg'.format(filename))\n",
    "    \n",
    "    img = cv2.imread(filepath)\n",
    "    plt.imshow(img)\n",
    "    plt.show()\n",
    "    break"
   ]
  },
  {
   "cell_type": "code",
   "execution_count": 10,
   "id": "allied-sampling",
   "metadata": {},
   "outputs": [
    {
     "name": "stdout",
     "output_type": "stream",
     "text": [
      "INFO: Pandarallel will run on 12 workers.\n",
      "INFO: Pandarallel will use Memory file system to transfer data between the main process and workers.\n"
     ]
    }
   ],
   "source": [
    "from pandarallel import pandarallel\n",
    "pandarallel.initialize()\n",
    "\n",
    "\n",
    "def get_h_w(row):\n",
    "    filepath = os.path.join('../dataset/train', '{}.jpg'.format(row['StudyInstanceUID']))\n",
    "    img = cv2.imread(filepath)\n",
    "    \n",
    "    row['h'] = img.shape[0]\n",
    "    row['w'] = img.shape[1]\n",
    "    return row\n",
    "\n",
    "train = train.parallel_apply(get_h_w, axis=1)"
   ]
  },
  {
   "cell_type": "code",
   "execution_count": 11,
   "id": "saved-october",
   "metadata": {},
   "outputs": [
    {
     "data": {
      "text/html": [
       "<div>\n",
       "<style scoped>\n",
       "    .dataframe tbody tr th:only-of-type {\n",
       "        vertical-align: middle;\n",
       "    }\n",
       "\n",
       "    .dataframe tbody tr th {\n",
       "        vertical-align: top;\n",
       "    }\n",
       "\n",
       "    .dataframe thead th {\n",
       "        text-align: right;\n",
       "    }\n",
       "</style>\n",
       "<table border=\"1\" class=\"dataframe\">\n",
       "  <thead>\n",
       "    <tr style=\"text-align: right;\">\n",
       "      <th></th>\n",
       "      <th>StudyInstanceUID</th>\n",
       "      <th>ETT - Abnormal</th>\n",
       "      <th>ETT - Borderline</th>\n",
       "      <th>ETT - Normal</th>\n",
       "      <th>NGT - Abnormal</th>\n",
       "      <th>NGT - Borderline</th>\n",
       "      <th>NGT - Incompletely Imaged</th>\n",
       "      <th>NGT - Normal</th>\n",
       "      <th>CVC - Abnormal</th>\n",
       "      <th>CVC - Borderline</th>\n",
       "      <th>CVC - Normal</th>\n",
       "      <th>Swan Ganz Catheter Present</th>\n",
       "      <th>PatientID</th>\n",
       "      <th>h</th>\n",
       "      <th>w</th>\n",
       "    </tr>\n",
       "  </thead>\n",
       "  <tbody>\n",
       "    <tr>\n",
       "      <th>0</th>\n",
       "      <td>1.2.826.0.1.3680043.8.498.26697628953273228189...</td>\n",
       "      <td>0</td>\n",
       "      <td>0</td>\n",
       "      <td>0</td>\n",
       "      <td>0</td>\n",
       "      <td>0</td>\n",
       "      <td>0</td>\n",
       "      <td>1</td>\n",
       "      <td>0</td>\n",
       "      <td>0</td>\n",
       "      <td>0</td>\n",
       "      <td>0</td>\n",
       "      <td>ec89415d1</td>\n",
       "      <td>2048</td>\n",
       "      <td>2500</td>\n",
       "    </tr>\n",
       "    <tr>\n",
       "      <th>1</th>\n",
       "      <td>1.2.826.0.1.3680043.8.498.46302891597398758759...</td>\n",
       "      <td>0</td>\n",
       "      <td>0</td>\n",
       "      <td>1</td>\n",
       "      <td>0</td>\n",
       "      <td>0</td>\n",
       "      <td>1</td>\n",
       "      <td>0</td>\n",
       "      <td>0</td>\n",
       "      <td>0</td>\n",
       "      <td>1</td>\n",
       "      <td>0</td>\n",
       "      <td>bf4c6da3c</td>\n",
       "      <td>2048</td>\n",
       "      <td>2500</td>\n",
       "    </tr>\n",
       "    <tr>\n",
       "      <th>2</th>\n",
       "      <td>1.2.826.0.1.3680043.8.498.23819260719748494858...</td>\n",
       "      <td>0</td>\n",
       "      <td>0</td>\n",
       "      <td>0</td>\n",
       "      <td>0</td>\n",
       "      <td>0</td>\n",
       "      <td>0</td>\n",
       "      <td>0</td>\n",
       "      <td>0</td>\n",
       "      <td>1</td>\n",
       "      <td>0</td>\n",
       "      <td>0</td>\n",
       "      <td>3fc1c97e5</td>\n",
       "      <td>2493</td>\n",
       "      <td>2526</td>\n",
       "    </tr>\n",
       "    <tr>\n",
       "      <th>3</th>\n",
       "      <td>1.2.826.0.1.3680043.8.498.68286643202323212801...</td>\n",
       "      <td>0</td>\n",
       "      <td>0</td>\n",
       "      <td>0</td>\n",
       "      <td>0</td>\n",
       "      <td>0</td>\n",
       "      <td>0</td>\n",
       "      <td>0</td>\n",
       "      <td>1</td>\n",
       "      <td>0</td>\n",
       "      <td>0</td>\n",
       "      <td>0</td>\n",
       "      <td>c31019814</td>\n",
       "      <td>2544</td>\n",
       "      <td>3056</td>\n",
       "    </tr>\n",
       "    <tr>\n",
       "      <th>4</th>\n",
       "      <td>1.2.826.0.1.3680043.8.498.10050203009225938259...</td>\n",
       "      <td>0</td>\n",
       "      <td>0</td>\n",
       "      <td>0</td>\n",
       "      <td>0</td>\n",
       "      <td>0</td>\n",
       "      <td>0</td>\n",
       "      <td>0</td>\n",
       "      <td>0</td>\n",
       "      <td>0</td>\n",
       "      <td>1</td>\n",
       "      <td>0</td>\n",
       "      <td>207685cd1</td>\n",
       "      <td>2048</td>\n",
       "      <td>2500</td>\n",
       "    </tr>\n",
       "    <tr>\n",
       "      <th>...</th>\n",
       "      <td>...</td>\n",
       "      <td>...</td>\n",
       "      <td>...</td>\n",
       "      <td>...</td>\n",
       "      <td>...</td>\n",
       "      <td>...</td>\n",
       "      <td>...</td>\n",
       "      <td>...</td>\n",
       "      <td>...</td>\n",
       "      <td>...</td>\n",
       "      <td>...</td>\n",
       "      <td>...</td>\n",
       "      <td>...</td>\n",
       "      <td>...</td>\n",
       "      <td>...</td>\n",
       "    </tr>\n",
       "    <tr>\n",
       "      <th>30078</th>\n",
       "      <td>1.2.826.0.1.3680043.8.498.74257566841157531124...</td>\n",
       "      <td>0</td>\n",
       "      <td>0</td>\n",
       "      <td>1</td>\n",
       "      <td>0</td>\n",
       "      <td>0</td>\n",
       "      <td>0</td>\n",
       "      <td>0</td>\n",
       "      <td>0</td>\n",
       "      <td>1</td>\n",
       "      <td>1</td>\n",
       "      <td>0</td>\n",
       "      <td>5b5b9ac30</td>\n",
       "      <td>2048</td>\n",
       "      <td>2500</td>\n",
       "    </tr>\n",
       "    <tr>\n",
       "      <th>30079</th>\n",
       "      <td>1.2.826.0.1.3680043.8.498.46510939987173529969...</td>\n",
       "      <td>0</td>\n",
       "      <td>0</td>\n",
       "      <td>0</td>\n",
       "      <td>0</td>\n",
       "      <td>0</td>\n",
       "      <td>0</td>\n",
       "      <td>0</td>\n",
       "      <td>0</td>\n",
       "      <td>0</td>\n",
       "      <td>1</td>\n",
       "      <td>0</td>\n",
       "      <td>7192404d8</td>\n",
       "      <td>2048</td>\n",
       "      <td>2500</td>\n",
       "    </tr>\n",
       "    <tr>\n",
       "      <th>30080</th>\n",
       "      <td>1.2.826.0.1.3680043.8.498.43173270582850645437...</td>\n",
       "      <td>0</td>\n",
       "      <td>0</td>\n",
       "      <td>1</td>\n",
       "      <td>0</td>\n",
       "      <td>0</td>\n",
       "      <td>1</td>\n",
       "      <td>0</td>\n",
       "      <td>1</td>\n",
       "      <td>0</td>\n",
       "      <td>1</td>\n",
       "      <td>0</td>\n",
       "      <td>d4d1b066d</td>\n",
       "      <td>2544</td>\n",
       "      <td>3056</td>\n",
       "    </tr>\n",
       "    <tr>\n",
       "      <th>30081</th>\n",
       "      <td>1.2.826.0.1.3680043.8.498.95092491950130838685...</td>\n",
       "      <td>0</td>\n",
       "      <td>0</td>\n",
       "      <td>0</td>\n",
       "      <td>0</td>\n",
       "      <td>0</td>\n",
       "      <td>0</td>\n",
       "      <td>0</td>\n",
       "      <td>0</td>\n",
       "      <td>1</td>\n",
       "      <td>0</td>\n",
       "      <td>0</td>\n",
       "      <td>01a6602b8</td>\n",
       "      <td>2048</td>\n",
       "      <td>2500</td>\n",
       "    </tr>\n",
       "    <tr>\n",
       "      <th>30082</th>\n",
       "      <td>1.2.826.0.1.3680043.8.498.99518162226171269731...</td>\n",
       "      <td>0</td>\n",
       "      <td>0</td>\n",
       "      <td>1</td>\n",
       "      <td>0</td>\n",
       "      <td>0</td>\n",
       "      <td>0</td>\n",
       "      <td>0</td>\n",
       "      <td>0</td>\n",
       "      <td>0</td>\n",
       "      <td>1</td>\n",
       "      <td>0</td>\n",
       "      <td>e692d316c</td>\n",
       "      <td>2544</td>\n",
       "      <td>3056</td>\n",
       "    </tr>\n",
       "  </tbody>\n",
       "</table>\n",
       "<p>30083 rows × 15 columns</p>\n",
       "</div>"
      ],
      "text/plain": [
       "                                        StudyInstanceUID  ETT - Abnormal  \\\n",
       "0      1.2.826.0.1.3680043.8.498.26697628953273228189...               0   \n",
       "1      1.2.826.0.1.3680043.8.498.46302891597398758759...               0   \n",
       "2      1.2.826.0.1.3680043.8.498.23819260719748494858...               0   \n",
       "3      1.2.826.0.1.3680043.8.498.68286643202323212801...               0   \n",
       "4      1.2.826.0.1.3680043.8.498.10050203009225938259...               0   \n",
       "...                                                  ...             ...   \n",
       "30078  1.2.826.0.1.3680043.8.498.74257566841157531124...               0   \n",
       "30079  1.2.826.0.1.3680043.8.498.46510939987173529969...               0   \n",
       "30080  1.2.826.0.1.3680043.8.498.43173270582850645437...               0   \n",
       "30081  1.2.826.0.1.3680043.8.498.95092491950130838685...               0   \n",
       "30082  1.2.826.0.1.3680043.8.498.99518162226171269731...               0   \n",
       "\n",
       "       ETT - Borderline  ETT - Normal  NGT - Abnormal  NGT - Borderline  \\\n",
       "0                     0             0               0                 0   \n",
       "1                     0             1               0                 0   \n",
       "2                     0             0               0                 0   \n",
       "3                     0             0               0                 0   \n",
       "4                     0             0               0                 0   \n",
       "...                 ...           ...             ...               ...   \n",
       "30078                 0             1               0                 0   \n",
       "30079                 0             0               0                 0   \n",
       "30080                 0             1               0                 0   \n",
       "30081                 0             0               0                 0   \n",
       "30082                 0             1               0                 0   \n",
       "\n",
       "       NGT - Incompletely Imaged  NGT - Normal  CVC - Abnormal  \\\n",
       "0                              0             1               0   \n",
       "1                              1             0               0   \n",
       "2                              0             0               0   \n",
       "3                              0             0               1   \n",
       "4                              0             0               0   \n",
       "...                          ...           ...             ...   \n",
       "30078                          0             0               0   \n",
       "30079                          0             0               0   \n",
       "30080                          1             0               1   \n",
       "30081                          0             0               0   \n",
       "30082                          0             0               0   \n",
       "\n",
       "       CVC - Borderline  CVC - Normal  Swan Ganz Catheter Present  PatientID  \\\n",
       "0                     0             0                           0  ec89415d1   \n",
       "1                     0             1                           0  bf4c6da3c   \n",
       "2                     1             0                           0  3fc1c97e5   \n",
       "3                     0             0                           0  c31019814   \n",
       "4                     0             1                           0  207685cd1   \n",
       "...                 ...           ...                         ...        ...   \n",
       "30078                 1             1                           0  5b5b9ac30   \n",
       "30079                 0             1                           0  7192404d8   \n",
       "30080                 0             1                           0  d4d1b066d   \n",
       "30081                 1             0                           0  01a6602b8   \n",
       "30082                 0             1                           0  e692d316c   \n",
       "\n",
       "          h     w  \n",
       "0      2048  2500  \n",
       "1      2048  2500  \n",
       "2      2493  2526  \n",
       "3      2544  3056  \n",
       "4      2048  2500  \n",
       "...     ...   ...  \n",
       "30078  2048  2500  \n",
       "30079  2048  2500  \n",
       "30080  2544  3056  \n",
       "30081  2048  2500  \n",
       "30082  2544  3056  \n",
       "\n",
       "[30083 rows x 15 columns]"
      ]
     },
     "execution_count": 11,
     "metadata": {},
     "output_type": "execute_result"
    }
   ],
   "source": [
    "train"
   ]
  },
  {
   "cell_type": "code",
   "execution_count": 12,
   "id": "automotive-polls",
   "metadata": {},
   "outputs": [
    {
     "data": {
      "text/plain": [
       "count    30083.000000\n",
       "mean      2346.374298\n",
       "std        349.252643\n",
       "min       1561.000000\n",
       "25%       2048.000000\n",
       "50%       2048.000000\n",
       "75%       2544.000000\n",
       "max       3567.000000\n",
       "Name: h, dtype: float64"
      ]
     },
     "execution_count": 12,
     "metadata": {},
     "output_type": "execute_result"
    }
   ],
   "source": [
    "train['h'].describe()"
   ]
  },
  {
   "cell_type": "code",
   "execution_count": 13,
   "id": "freelance-kenya",
   "metadata": {},
   "outputs": [
    {
     "data": {
      "text/plain": [
       "count    30083.000000\n",
       "mean      2683.915766\n",
       "std        297.273613\n",
       "min       1496.000000\n",
       "25%       2500.000000\n",
       "50%       2500.000000\n",
       "75%       3056.000000\n",
       "max       3827.000000\n",
       "Name: w, dtype: float64"
      ]
     },
     "execution_count": 13,
     "metadata": {},
     "output_type": "execute_result"
    }
   ],
   "source": [
    "train['w'].describe()"
   ]
  },
  {
   "cell_type": "code",
   "execution_count": 16,
   "id": "absolute-upset",
   "metadata": {},
   "outputs": [
    {
     "data": {
      "text/plain": [
       "508"
      ]
     },
     "execution_count": 16,
     "metadata": {},
     "output_type": "execute_result"
    }
   ],
   "source": [
    "train['h'].nunique()"
   ]
  },
  {
   "cell_type": "code",
   "execution_count": 17,
   "id": "corporate-zimbabwe",
   "metadata": {},
   "outputs": [
    {
     "data": {
      "text/plain": [
       "480"
      ]
     },
     "execution_count": 17,
     "metadata": {},
     "output_type": "execute_result"
    }
   ],
   "source": [
    "train['w'].nunique()"
   ]
  },
  {
   "cell_type": "code",
   "execution_count": 41,
   "id": "fundamental-pocket",
   "metadata": {},
   "outputs": [],
   "source": [
    "train['area'] = train['w'] * train['h']"
   ]
  },
  {
   "cell_type": "code",
   "execution_count": 42,
   "id": "continued-petersburg",
   "metadata": {},
   "outputs": [
    {
     "data": {
      "text/plain": [
       "count    3.008300e+04\n",
       "mean     6.365514e+06\n",
       "std      1.512571e+06\n",
       "min      2.535720e+06\n",
       "25%      5.120000e+06\n",
       "50%      5.120000e+06\n",
       "75%      7.774464e+06\n",
       "max      1.365091e+07\n",
       "Name: area, dtype: float64"
      ]
     },
     "execution_count": 42,
     "metadata": {},
     "output_type": "execute_result"
    }
   ],
   "source": [
    "train['area'].describe()"
   ]
  },
  {
   "cell_type": "code",
   "execution_count": 43,
   "id": "occasional-eclipse",
   "metadata": {},
   "outputs": [],
   "source": [
    "train.to_csv('../dataset/train_with_image_info.csv', index=False)"
   ]
  },
  {
   "cell_type": "markdown",
   "id": "constant-floor",
   "metadata": {},
   "source": [
    "# get mean h/w ratio"
   ]
  },
  {
   "cell_type": "code",
   "execution_count": 1,
   "id": "federal-championship",
   "metadata": {},
   "outputs": [],
   "source": [
    "import pandas as pd"
   ]
  },
  {
   "cell_type": "code",
   "execution_count": 2,
   "id": "handy-building",
   "metadata": {},
   "outputs": [],
   "source": [
    "train = pd.read_csv('../dataset/train_with_image_info.csv')"
   ]
  },
  {
   "cell_type": "code",
   "execution_count": 4,
   "id": "hired-operation",
   "metadata": {},
   "outputs": [
    {
     "data": {
      "text/html": [
       "<div>\n",
       "<style scoped>\n",
       "    .dataframe tbody tr th:only-of-type {\n",
       "        vertical-align: middle;\n",
       "    }\n",
       "\n",
       "    .dataframe tbody tr th {\n",
       "        vertical-align: top;\n",
       "    }\n",
       "\n",
       "    .dataframe thead th {\n",
       "        text-align: right;\n",
       "    }\n",
       "</style>\n",
       "<table border=\"1\" class=\"dataframe\">\n",
       "  <thead>\n",
       "    <tr style=\"text-align: right;\">\n",
       "      <th></th>\n",
       "      <th>StudyInstanceUID</th>\n",
       "      <th>ETT - Abnormal</th>\n",
       "      <th>ETT - Borderline</th>\n",
       "      <th>ETT - Normal</th>\n",
       "      <th>NGT - Abnormal</th>\n",
       "      <th>NGT - Borderline</th>\n",
       "      <th>NGT - Incompletely Imaged</th>\n",
       "      <th>NGT - Normal</th>\n",
       "      <th>CVC - Abnormal</th>\n",
       "      <th>CVC - Borderline</th>\n",
       "      <th>CVC - Normal</th>\n",
       "      <th>Swan Ganz Catheter Present</th>\n",
       "      <th>PatientID</th>\n",
       "      <th>h</th>\n",
       "      <th>w</th>\n",
       "      <th>area</th>\n",
       "    </tr>\n",
       "  </thead>\n",
       "  <tbody>\n",
       "    <tr>\n",
       "      <th>0</th>\n",
       "      <td>1.2.826.0.1.3680043.8.498.26697628953273228189...</td>\n",
       "      <td>0</td>\n",
       "      <td>0</td>\n",
       "      <td>0</td>\n",
       "      <td>0</td>\n",
       "      <td>0</td>\n",
       "      <td>0</td>\n",
       "      <td>1</td>\n",
       "      <td>0</td>\n",
       "      <td>0</td>\n",
       "      <td>0</td>\n",
       "      <td>0</td>\n",
       "      <td>ec89415d1</td>\n",
       "      <td>2048</td>\n",
       "      <td>2500</td>\n",
       "      <td>5120000</td>\n",
       "    </tr>\n",
       "    <tr>\n",
       "      <th>1</th>\n",
       "      <td>1.2.826.0.1.3680043.8.498.46302891597398758759...</td>\n",
       "      <td>0</td>\n",
       "      <td>0</td>\n",
       "      <td>1</td>\n",
       "      <td>0</td>\n",
       "      <td>0</td>\n",
       "      <td>1</td>\n",
       "      <td>0</td>\n",
       "      <td>0</td>\n",
       "      <td>0</td>\n",
       "      <td>1</td>\n",
       "      <td>0</td>\n",
       "      <td>bf4c6da3c</td>\n",
       "      <td>2048</td>\n",
       "      <td>2500</td>\n",
       "      <td>5120000</td>\n",
       "    </tr>\n",
       "    <tr>\n",
       "      <th>2</th>\n",
       "      <td>1.2.826.0.1.3680043.8.498.23819260719748494858...</td>\n",
       "      <td>0</td>\n",
       "      <td>0</td>\n",
       "      <td>0</td>\n",
       "      <td>0</td>\n",
       "      <td>0</td>\n",
       "      <td>0</td>\n",
       "      <td>0</td>\n",
       "      <td>0</td>\n",
       "      <td>1</td>\n",
       "      <td>0</td>\n",
       "      <td>0</td>\n",
       "      <td>3fc1c97e5</td>\n",
       "      <td>2493</td>\n",
       "      <td>2526</td>\n",
       "      <td>6297318</td>\n",
       "    </tr>\n",
       "    <tr>\n",
       "      <th>3</th>\n",
       "      <td>1.2.826.0.1.3680043.8.498.68286643202323212801...</td>\n",
       "      <td>0</td>\n",
       "      <td>0</td>\n",
       "      <td>0</td>\n",
       "      <td>0</td>\n",
       "      <td>0</td>\n",
       "      <td>0</td>\n",
       "      <td>0</td>\n",
       "      <td>1</td>\n",
       "      <td>0</td>\n",
       "      <td>0</td>\n",
       "      <td>0</td>\n",
       "      <td>c31019814</td>\n",
       "      <td>2544</td>\n",
       "      <td>3056</td>\n",
       "      <td>7774464</td>\n",
       "    </tr>\n",
       "    <tr>\n",
       "      <th>4</th>\n",
       "      <td>1.2.826.0.1.3680043.8.498.10050203009225938259...</td>\n",
       "      <td>0</td>\n",
       "      <td>0</td>\n",
       "      <td>0</td>\n",
       "      <td>0</td>\n",
       "      <td>0</td>\n",
       "      <td>0</td>\n",
       "      <td>0</td>\n",
       "      <td>0</td>\n",
       "      <td>0</td>\n",
       "      <td>1</td>\n",
       "      <td>0</td>\n",
       "      <td>207685cd1</td>\n",
       "      <td>2048</td>\n",
       "      <td>2500</td>\n",
       "      <td>5120000</td>\n",
       "    </tr>\n",
       "  </tbody>\n",
       "</table>\n",
       "</div>"
      ],
      "text/plain": [
       "                                    StudyInstanceUID  ETT - Abnormal  \\\n",
       "0  1.2.826.0.1.3680043.8.498.26697628953273228189...               0   \n",
       "1  1.2.826.0.1.3680043.8.498.46302891597398758759...               0   \n",
       "2  1.2.826.0.1.3680043.8.498.23819260719748494858...               0   \n",
       "3  1.2.826.0.1.3680043.8.498.68286643202323212801...               0   \n",
       "4  1.2.826.0.1.3680043.8.498.10050203009225938259...               0   \n",
       "\n",
       "   ETT - Borderline  ETT - Normal  NGT - Abnormal  NGT - Borderline  \\\n",
       "0                 0             0               0                 0   \n",
       "1                 0             1               0                 0   \n",
       "2                 0             0               0                 0   \n",
       "3                 0             0               0                 0   \n",
       "4                 0             0               0                 0   \n",
       "\n",
       "   NGT - Incompletely Imaged  NGT - Normal  CVC - Abnormal  CVC - Borderline  \\\n",
       "0                          0             1               0                 0   \n",
       "1                          1             0               0                 0   \n",
       "2                          0             0               0                 1   \n",
       "3                          0             0               1                 0   \n",
       "4                          0             0               0                 0   \n",
       "\n",
       "   CVC - Normal  Swan Ganz Catheter Present  PatientID     h     w     area  \n",
       "0             0                           0  ec89415d1  2048  2500  5120000  \n",
       "1             1                           0  bf4c6da3c  2048  2500  5120000  \n",
       "2             0                           0  3fc1c97e5  2493  2526  6297318  \n",
       "3             0                           0  c31019814  2544  3056  7774464  \n",
       "4             1                           0  207685cd1  2048  2500  5120000  "
      ]
     },
     "execution_count": 4,
     "metadata": {},
     "output_type": "execute_result"
    }
   ],
   "source": [
    "train.head()"
   ]
  },
  {
   "cell_type": "code",
   "execution_count": 5,
   "id": "august-apartment",
   "metadata": {},
   "outputs": [],
   "source": [
    "train['ratio'] = train['h'] / train['w']"
   ]
  },
  {
   "cell_type": "code",
   "execution_count": 6,
   "id": "paperback-throw",
   "metadata": {},
   "outputs": [
    {
     "data": {
      "text/plain": [
       "count    30083.000000\n",
       "mean         0.876205\n",
       "std          0.107387\n",
       "min          0.591950\n",
       "25%          0.819200\n",
       "50%          0.819200\n",
       "75%          0.832461\n",
       "max          1.488060\n",
       "Name: ratio, dtype: float64"
      ]
     },
     "execution_count": 6,
     "metadata": {},
     "output_type": "execute_result"
    }
   ],
   "source": [
    "train['ratio'].describe()"
   ]
  },
  {
   "cell_type": "code",
   "execution_count": 8,
   "id": "finnish-paintball",
   "metadata": {},
   "outputs": [
    {
     "data": {
      "text/plain": [
       "0    0.8192\n",
       "dtype: float64"
      ]
     },
     "execution_count": 8,
     "metadata": {},
     "output_type": "execute_result"
    }
   ],
   "source": [
    "train['ratio'].mode()"
   ]
  },
  {
   "cell_type": "code",
   "execution_count": 9,
   "id": "distinguished-observer",
   "metadata": {},
   "outputs": [
    {
     "data": {
      "text/html": [
       "<div>\n",
       "<style scoped>\n",
       "    .dataframe tbody tr th:only-of-type {\n",
       "        vertical-align: middle;\n",
       "    }\n",
       "\n",
       "    .dataframe tbody tr th {\n",
       "        vertical-align: top;\n",
       "    }\n",
       "\n",
       "    .dataframe thead th {\n",
       "        text-align: right;\n",
       "    }\n",
       "</style>\n",
       "<table border=\"1\" class=\"dataframe\">\n",
       "  <thead>\n",
       "    <tr style=\"text-align: right;\">\n",
       "      <th></th>\n",
       "      <th>StudyInstanceUID</th>\n",
       "      <th>ETT - Abnormal</th>\n",
       "      <th>ETT - Borderline</th>\n",
       "      <th>ETT - Normal</th>\n",
       "      <th>NGT - Abnormal</th>\n",
       "      <th>NGT - Borderline</th>\n",
       "      <th>NGT - Incompletely Imaged</th>\n",
       "      <th>NGT - Normal</th>\n",
       "      <th>CVC - Abnormal</th>\n",
       "      <th>CVC - Borderline</th>\n",
       "      <th>CVC - Normal</th>\n",
       "      <th>Swan Ganz Catheter Present</th>\n",
       "      <th>PatientID</th>\n",
       "      <th>h</th>\n",
       "      <th>w</th>\n",
       "      <th>area</th>\n",
       "      <th>ratio</th>\n",
       "    </tr>\n",
       "  </thead>\n",
       "  <tbody>\n",
       "    <tr>\n",
       "      <th>37</th>\n",
       "      <td>1.2.826.0.1.3680043.8.498.12662459268358115142...</td>\n",
       "      <td>0</td>\n",
       "      <td>0</td>\n",
       "      <td>0</td>\n",
       "      <td>0</td>\n",
       "      <td>0</td>\n",
       "      <td>0</td>\n",
       "      <td>0</td>\n",
       "      <td>0</td>\n",
       "      <td>1</td>\n",
       "      <td>0</td>\n",
       "      <td>0</td>\n",
       "      <td>fdf8c4666</td>\n",
       "      <td>2991</td>\n",
       "      <td>2990</td>\n",
       "      <td>8943090</td>\n",
       "      <td>1.000334</td>\n",
       "    </tr>\n",
       "    <tr>\n",
       "      <th>51</th>\n",
       "      <td>1.2.826.0.1.3680043.8.498.93758796965828146947...</td>\n",
       "      <td>0</td>\n",
       "      <td>0</td>\n",
       "      <td>0</td>\n",
       "      <td>0</td>\n",
       "      <td>0</td>\n",
       "      <td>0</td>\n",
       "      <td>0</td>\n",
       "      <td>0</td>\n",
       "      <td>0</td>\n",
       "      <td>1</td>\n",
       "      <td>0</td>\n",
       "      <td>009ed70c6</td>\n",
       "      <td>2765</td>\n",
       "      <td>2632</td>\n",
       "      <td>7277480</td>\n",
       "      <td>1.050532</td>\n",
       "    </tr>\n",
       "    <tr>\n",
       "      <th>68</th>\n",
       "      <td>1.2.826.0.1.3680043.8.498.95099589812012397317...</td>\n",
       "      <td>0</td>\n",
       "      <td>0</td>\n",
       "      <td>0</td>\n",
       "      <td>0</td>\n",
       "      <td>0</td>\n",
       "      <td>0</td>\n",
       "      <td>0</td>\n",
       "      <td>0</td>\n",
       "      <td>0</td>\n",
       "      <td>1</td>\n",
       "      <td>0</td>\n",
       "      <td>ae890c888</td>\n",
       "      <td>2991</td>\n",
       "      <td>2990</td>\n",
       "      <td>8943090</td>\n",
       "      <td>1.000334</td>\n",
       "    </tr>\n",
       "    <tr>\n",
       "      <th>86</th>\n",
       "      <td>1.2.826.0.1.3680043.8.498.12116356828364608232...</td>\n",
       "      <td>0</td>\n",
       "      <td>0</td>\n",
       "      <td>0</td>\n",
       "      <td>0</td>\n",
       "      <td>0</td>\n",
       "      <td>0</td>\n",
       "      <td>0</td>\n",
       "      <td>0</td>\n",
       "      <td>0</td>\n",
       "      <td>1</td>\n",
       "      <td>0</td>\n",
       "      <td>7d4e913ee</td>\n",
       "      <td>2991</td>\n",
       "      <td>2658</td>\n",
       "      <td>7950078</td>\n",
       "      <td>1.125282</td>\n",
       "    </tr>\n",
       "    <tr>\n",
       "      <th>96</th>\n",
       "      <td>1.2.826.0.1.3680043.8.498.45721200226335550416...</td>\n",
       "      <td>0</td>\n",
       "      <td>0</td>\n",
       "      <td>0</td>\n",
       "      <td>0</td>\n",
       "      <td>0</td>\n",
       "      <td>0</td>\n",
       "      <td>0</td>\n",
       "      <td>0</td>\n",
       "      <td>0</td>\n",
       "      <td>1</td>\n",
       "      <td>0</td>\n",
       "      <td>ab3998a31</td>\n",
       "      <td>2991</td>\n",
       "      <td>2582</td>\n",
       "      <td>7722762</td>\n",
       "      <td>1.158404</td>\n",
       "    </tr>\n",
       "  </tbody>\n",
       "</table>\n",
       "</div>"
      ],
      "text/plain": [
       "                                     StudyInstanceUID  ETT - Abnormal  \\\n",
       "37  1.2.826.0.1.3680043.8.498.12662459268358115142...               0   \n",
       "51  1.2.826.0.1.3680043.8.498.93758796965828146947...               0   \n",
       "68  1.2.826.0.1.3680043.8.498.95099589812012397317...               0   \n",
       "86  1.2.826.0.1.3680043.8.498.12116356828364608232...               0   \n",
       "96  1.2.826.0.1.3680043.8.498.45721200226335550416...               0   \n",
       "\n",
       "    ETT - Borderline  ETT - Normal  NGT - Abnormal  NGT - Borderline  \\\n",
       "37                 0             0               0                 0   \n",
       "51                 0             0               0                 0   \n",
       "68                 0             0               0                 0   \n",
       "86                 0             0               0                 0   \n",
       "96                 0             0               0                 0   \n",
       "\n",
       "    NGT - Incompletely Imaged  NGT - Normal  CVC - Abnormal  CVC - Borderline  \\\n",
       "37                          0             0               0                 1   \n",
       "51                          0             0               0                 0   \n",
       "68                          0             0               0                 0   \n",
       "86                          0             0               0                 0   \n",
       "96                          0             0               0                 0   \n",
       "\n",
       "    CVC - Normal  Swan Ganz Catheter Present  PatientID     h     w     area  \\\n",
       "37             0                           0  fdf8c4666  2991  2990  8943090   \n",
       "51             1                           0  009ed70c6  2765  2632  7277480   \n",
       "68             1                           0  ae890c888  2991  2990  8943090   \n",
       "86             1                           0  7d4e913ee  2991  2658  7950078   \n",
       "96             1                           0  ab3998a31  2991  2582  7722762   \n",
       "\n",
       "       ratio  \n",
       "37  1.000334  \n",
       "51  1.050532  \n",
       "68  1.000334  \n",
       "86  1.125282  \n",
       "96  1.158404  "
      ]
     },
     "execution_count": 9,
     "metadata": {},
     "output_type": "execute_result"
    }
   ],
   "source": [
    "train[train['ratio'] > 1].head()"
   ]
  },
  {
   "cell_type": "code",
   "execution_count": null,
   "id": "usual-wrong",
   "metadata": {},
   "outputs": [],
   "source": []
  }
 ],
 "metadata": {
  "kernelspec": {
   "display_name": "Python 3",
   "language": "python",
   "name": "python3"
  },
  "language_info": {
   "codemirror_mode": {
    "name": "ipython",
    "version": 3
   },
   "file_extension": ".py",
   "mimetype": "text/x-python",
   "name": "python",
   "nbconvert_exporter": "python",
   "pygments_lexer": "ipython3",
   "version": "3.8.5"
  }
 },
 "nbformat": 4,
 "nbformat_minor": 5
}
