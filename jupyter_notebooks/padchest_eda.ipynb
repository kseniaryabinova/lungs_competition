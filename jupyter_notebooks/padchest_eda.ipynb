{
 "cells": [
  {
   "cell_type": "code",
   "execution_count": 1,
   "id": "guided-intranet",
   "metadata": {},
   "outputs": [],
   "source": [
    "import pandas as pd"
   ]
  },
  {
   "cell_type": "code",
   "execution_count": 2,
   "id": "eleven-princess",
   "metadata": {},
   "outputs": [],
   "source": [
    "df = pd.read_csv('padchest_meta.csv')"
   ]
  },
  {
   "cell_type": "code",
   "execution_count": 3,
   "id": "understanding-prairie",
   "metadata": {},
   "outputs": [
    {
     "data": {
      "text/html": [
       "<div>\n",
       "<style scoped>\n",
       "    .dataframe tbody tr th:only-of-type {\n",
       "        vertical-align: middle;\n",
       "    }\n",
       "\n",
       "    .dataframe tbody tr th {\n",
       "        vertical-align: top;\n",
       "    }\n",
       "\n",
       "    .dataframe thead th {\n",
       "        text-align: right;\n",
       "    }\n",
       "</style>\n",
       "<table border=\"1\" class=\"dataframe\">\n",
       "  <thead>\n",
       "    <tr style=\"text-align: right;\">\n",
       "      <th></th>\n",
       "      <th>ImageID</th>\n",
       "      <th>PatientID</th>\n",
       "    </tr>\n",
       "  </thead>\n",
       "  <tbody>\n",
       "    <tr>\n",
       "      <th>0</th>\n",
       "      <td>313723174271082992847610802266403640553-2_40kx...</td>\n",
       "      <td>93535126770783451980359712286922420997</td>\n",
       "    </tr>\n",
       "    <tr>\n",
       "      <th>1</th>\n",
       "      <td>313723174271082992847610802266403640553_w8dk8c...</td>\n",
       "      <td>93535126770783451980359712286922420997</td>\n",
       "    </tr>\n",
       "    <tr>\n",
       "      <th>2</th>\n",
       "      <td>49602503074420747438297888031645729553_n9jt8a.png</td>\n",
       "      <td>8611100909726326876620393323820815701</td>\n",
       "    </tr>\n",
       "    <tr>\n",
       "      <th>3</th>\n",
       "      <td>49602503074420747438297888031645729553_2_ut0yz...</td>\n",
       "      <td>8611100909726326876620393323820815701</td>\n",
       "    </tr>\n",
       "    <tr>\n",
       "      <th>4</th>\n",
       "      <td>122344634100249204350826448738624565922_2_waa6...</td>\n",
       "      <td>54189049046785323036443069546286747636</td>\n",
       "    </tr>\n",
       "    <tr>\n",
       "      <th>...</th>\n",
       "      <td>...</td>\n",
       "      <td>...</td>\n",
       "    </tr>\n",
       "    <tr>\n",
       "      <th>7607</th>\n",
       "      <td>216840111366964012819207061112010320084902578_...</td>\n",
       "      <td>190982014632554031458997146368144484769</td>\n",
       "    </tr>\n",
       "    <tr>\n",
       "      <th>7608</th>\n",
       "      <td>216840111366964012819207061112010320084806609_...</td>\n",
       "      <td>7697845043190650172922535533204269566</td>\n",
       "    </tr>\n",
       "    <tr>\n",
       "      <th>7609</th>\n",
       "      <td>216840111366964012768025509942010172085721341_...</td>\n",
       "      <td>230717308028087699328041609937666836739</td>\n",
       "    </tr>\n",
       "    <tr>\n",
       "      <th>7610</th>\n",
       "      <td>216840111366964012904401302362010328124037536_...</td>\n",
       "      <td>152624763235304771160184263686855689145</td>\n",
       "    </tr>\n",
       "    <tr>\n",
       "      <th>7611</th>\n",
       "      <td>216840111366964012904401302362010328091616774_...</td>\n",
       "      <td>238573657150752898642463201578125587016</td>\n",
       "    </tr>\n",
       "  </tbody>\n",
       "</table>\n",
       "<p>7612 rows × 2 columns</p>\n",
       "</div>"
      ],
      "text/plain": [
       "                                                ImageID  \\\n",
       "0     313723174271082992847610802266403640553-2_40kx...   \n",
       "1     313723174271082992847610802266403640553_w8dk8c...   \n",
       "2     49602503074420747438297888031645729553_n9jt8a.png   \n",
       "3     49602503074420747438297888031645729553_2_ut0yz...   \n",
       "4     122344634100249204350826448738624565922_2_waa6...   \n",
       "...                                                 ...   \n",
       "7607  216840111366964012819207061112010320084902578_...   \n",
       "7608  216840111366964012819207061112010320084806609_...   \n",
       "7609  216840111366964012768025509942010172085721341_...   \n",
       "7610  216840111366964012904401302362010328124037536_...   \n",
       "7611  216840111366964012904401302362010328091616774_...   \n",
       "\n",
       "                                    PatientID  \n",
       "0      93535126770783451980359712286922420997  \n",
       "1      93535126770783451980359712286922420997  \n",
       "2       8611100909726326876620393323820815701  \n",
       "3       8611100909726326876620393323820815701  \n",
       "4      54189049046785323036443069546286747636  \n",
       "...                                       ...  \n",
       "7607  190982014632554031458997146368144484769  \n",
       "7608    7697845043190650172922535533204269566  \n",
       "7609  230717308028087699328041609937666836739  \n",
       "7610  152624763235304771160184263686855689145  \n",
       "7611  238573657150752898642463201578125587016  \n",
       "\n",
       "[7612 rows x 2 columns]"
      ]
     },
     "execution_count": 3,
     "metadata": {},
     "output_type": "execute_result"
    }
   ],
   "source": [
    "df"
   ]
  },
  {
   "cell_type": "code",
   "execution_count": 4,
   "id": "corrected-navigator",
   "metadata": {},
   "outputs": [
    {
     "data": {
      "text/plain": [
       "'313723174271082992847610802266403640553-2_40kxq3.png'"
      ]
     },
     "execution_count": 4,
     "metadata": {},
     "output_type": "execute_result"
    }
   ],
   "source": [
    "df.loc[0]['ImageID']"
   ]
  },
  {
   "cell_type": "code",
   "execution_count": null,
   "id": "worse-folder",
   "metadata": {},
   "outputs": [],
   "source": []
  }
 ],
 "metadata": {
  "kernelspec": {
   "display_name": "Python 3",
   "language": "python",
   "name": "python3"
  },
  "language_info": {
   "codemirror_mode": {
    "name": "ipython",
    "version": 3
   },
   "file_extension": ".py",
   "mimetype": "text/x-python",
   "name": "python",
   "nbconvert_exporter": "python",
   "pygments_lexer": "ipython3",
   "version": "3.8.5"
  }
 },
 "nbformat": 4,
 "nbformat_minor": 5
}
